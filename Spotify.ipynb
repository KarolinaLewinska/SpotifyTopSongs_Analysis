{
 "cells": [
  {
   "cell_type": "code",
   "execution_count": 1,
   "metadata": {},
   "outputs": [],
   "source": [
    "import pandas as pd\n",
    "import csv \n",
    "import json\n",
    "import time\n",
    "import os\n",
    "from pymongo import MongoClient\n",
    "from mpl_toolkits.mplot3d import Axes3D\n",
    "import matplotlib.pyplot as plt"
   ]
  },
  {
   "cell_type": "code",
   "execution_count": 2,
   "metadata": {},
   "outputs": [],
   "source": [
    "pd.set_option('display.max_rows', None)\n",
    "pd.set_option('display.max_columns', None)\n",
    "pd.set_option('display.width', None)"
   ]
  },
  {
   "cell_type": "code",
   "execution_count": 3,
   "metadata": {},
   "outputs": [
    {
     "name": "stdout",
     "output_type": "stream",
     "text": [
      "Last modification date: Mon Apr 18 10:16:09 2022\n",
      "<class 'pandas.core.frame.DataFrame'>\n",
      "RangeIndex: 1000 entries, 0 to 999\n",
      "Data columns (total 17 columns):\n",
      " #   Column                     Non-Null Count  Dtype \n",
      "---  ------                     --------------  ----- \n",
      " 0   title                      1000 non-null   object\n",
      " 1   artist                     1000 non-null   object\n",
      " 2   genre                      1000 non-null   object\n",
      " 3   year released              1000 non-null   int64 \n",
      " 4   date added to list         1000 non-null   object\n",
      " 5   beats per minute           1000 non-null   int64 \n",
      " 6   energetic rate             1000 non-null   int64 \n",
      " 7   danceability rate          1000 non-null   int64 \n",
      " 8   decibel                    1000 non-null   int64 \n",
      " 9   probability is live song   1000 non-null   int64 \n",
      " 10  positivity rate            1000 non-null   int64 \n",
      " 11  duration                   1000 non-null   int64 \n",
      " 12  acoustic rate              1000 non-null   int64 \n",
      " 13  focus on spoken words      1000 non-null   int64 \n",
      " 14  popularity                 1000 non-null   int64 \n",
      " 15  top year                   1000 non-null   int64 \n",
      " 16  artist type                1000 non-null   object\n",
      "dtypes: int64(12), object(5)\n",
      "memory usage: 132.9+ KB\n"
     ]
    }
   ],
   "source": [
    "spotify_csv = pd.read_csv('Spotify 2010 - 2019 Top 100.csv', encoding = 'utf-8')\n",
    "print('Last modification date:', time.ctime(os.path.getctime('Spotify 2010 - 2019 Top 100.csv'))) \n",
    "spotify_csv.info()"
   ]
  },
  {
   "cell_type": "code",
   "execution_count": null,
   "metadata": {},
   "outputs": [],
   "source": [
    "display(spotify_csv.iloc[1:11])"
   ]
  },
  {
   "cell_type": "code",
   "execution_count": null,
   "metadata": {},
   "outputs": [],
   "source": [
    "display(spotify_csv[['title','duration']])"
   ]
  },
  {
   "cell_type": "code",
   "execution_count": null,
   "metadata": {},
   "outputs": [],
   "source": [
    "spotify_csv.duration.describe()"
   ]
  },
  {
   "cell_type": "code",
   "execution_count": null,
   "metadata": {},
   "outputs": [],
   "source": [
    "spotify_csv.sort_values(['beats per minute'], ascending = 0) "
   ]
  },
  {
   "cell_type": "code",
   "execution_count": null,
   "metadata": {},
   "outputs": [],
   "source": [
    "spotify_csv.loc[(spotify_csv['top year'] == 2019)]"
   ]
  },
  {
   "cell_type": "code",
   "execution_count": null,
   "metadata": {},
   "outputs": [],
   "source": [
    "spotify_csv.loc[(spotify_csv['popularity'] < 50)]"
   ]
  },
  {
   "cell_type": "code",
   "execution_count": null,
   "metadata": {},
   "outputs": [],
   "source": [
    "songs_to_dance = spotify_csv.title.loc[spotify_csv['danceability rate'] >= 70] \n",
    "songs_to_dance.count()"
   ]
  },
  {
   "cell_type": "code",
   "execution_count": null,
   "metadata": {},
   "outputs": [],
   "source": [
    "spotify_csv.loc[(spotify_csv['acoustic rate'] == spotify_csv['acoustic rate'].max())]"
   ]
  },
  {
   "cell_type": "code",
   "execution_count": null,
   "metadata": {},
   "outputs": [],
   "source": [
    "spotify_csv.loc[(spotify_csv['acoustic rate'] == spotify_csv['acoustic rate'].min())]"
   ]
  },
  {
   "cell_type": "code",
   "execution_count": null,
   "metadata": {},
   "outputs": [],
   "source": [
    "spotify_csv[(spotify_csv['genre'].str.contains('hip hop') | (spotify_csv['genre'].str.contains('pop')) \n",
    "    & spotify_csv['artist type'].str.contains('Solo'))]"
   ]
  },
  {
   "cell_type": "code",
   "execution_count": null,
   "metadata": {},
   "outputs": [],
   "source": [
    "spotify_csv.groupby(['artist type']).mean()"
   ]
  },
  {
   "cell_type": "code",
   "execution_count": null,
   "metadata": {},
   "outputs": [],
   "source": [
    "spotify_csv.sort_values(by = ['date added to list'], ascending = 0) "
   ]
  },
  {
   "cell_type": "code",
   "execution_count": null,
   "metadata": {},
   "outputs": [],
   "source": [
    "spotify_csv.groupby(['genre']).sum()"
   ]
  },
  {
   "cell_type": "code",
   "execution_count": null,
   "metadata": {},
   "outputs": [],
   "source": [
    "spotify_csv.groupby(['top year']).count()"
   ]
  },
  {
   "cell_type": "code",
   "execution_count": null,
   "metadata": {},
   "outputs": [],
   "source": [
    "spotify_csv['beats per minute'].hist()"
   ]
  },
  {
   "cell_type": "code",
   "execution_count": null,
   "metadata": {},
   "outputs": [],
   "source": [
    "def search_songs_by_duration_range(min_duration, max_duration):\n",
    "    searched_songs = spotify_csv.loc[(spotify_csv.duration >= min_duration) & (spotify_csv.duration <= max_duration)]\n",
    "    sorted_songs = searched_songs.sort_values(by = ['duration'], ascending = 0) \n",
    "    display(sorted_songs)\n",
    "    \n",
    "search_songs_by_duration_range(100, 220)"
   ]
  },
  {
   "cell_type": "code",
   "execution_count": null,
   "metadata": {},
   "outputs": [],
   "source": [
    "def search_songs_by_genre(genre_to_find):\n",
    "    display(spotify_csv.loc[spotify_csv['genre'].str.contains(genre_to_find)])  \n",
    "     \n",
    "search_songs_by_genre('dance pop')"
   ]
  },
  {
   "cell_type": "code",
   "execution_count": null,
   "metadata": {},
   "outputs": [],
   "source": [
    "def search_songs_by_title_keyword(keyword):\n",
    "    display(spotify_csv.loc[(spotify_csv['title'].str.contains(keyword))])   \n",
    "    \n",
    "search_songs_by_title_keyword('You')"
   ]
  },
  {
   "cell_type": "code",
   "execution_count": null,
   "metadata": {},
   "outputs": [],
   "source": [
    "def convert_csv_to_json(csv_file_path, json_file_path):\n",
    "    json_array = []\n",
    "    with open(csv_file_path, encoding = 'utf-8') as csv_file: \n",
    "        csv_dict_reader = csv.DictReader(csv_file) \n",
    "        for row in csv_dict_reader: \n",
    "            json_array.append(row)\n",
    "  \n",
    "    with open(json_file_path, 'w', encoding = 'utf-8') as json_file: \n",
    "        json_text = json.dumps(json_array, indent = 4)\n",
    "        json_file.write(json_text)\n",
    "          \n",
    "csv_file_path = r'Spotify 2010 - 2019 Top 100.csv'\n",
    "json_file_path = r'SpotifyTop100Songs.json'\n",
    "\n",
    "convert_csv_to_json(csv_file_path, json_file_path)"
   ]
  },
  {
   "cell_type": "code",
   "execution_count": 4,
   "metadata": {
    "scrolled": true
   },
   "outputs": [],
   "source": [
    "spotify_json = pd.read_json('SpotifyTop100Songs.json', encoding = 'utf-8')"
   ]
  },
  {
   "cell_type": "code",
   "execution_count": 5,
   "metadata": {},
   "outputs": [],
   "source": [
    "mongo_client = MongoClient('mongodb://localhost:27017')\n",
    "spotify_database = mongo_client['SpotifyTop100Songs']"
   ]
  },
  {
   "cell_type": "code",
   "execution_count": 6,
   "metadata": {},
   "outputs": [],
   "source": [
    "songs_collection = spotify_database.Top100SpotifySongs\n",
    "songs_dict = spotify_json.to_dict('records')"
   ]
  },
  {
   "cell_type": "code",
   "execution_count": 7,
   "metadata": {},
   "outputs": [
    {
     "data": {
      "text/plain": [
       "<pymongo.results.InsertManyResult at 0x26ad774a4f0>"
      ]
     },
     "execution_count": 7,
     "metadata": {},
     "output_type": "execute_result"
    }
   ],
   "source": [
    "songs_collection.insert_many(songs_dict)"
   ]
  },
  {
   "cell_type": "code",
   "execution_count": 8,
   "metadata": {},
   "outputs": [
    {
     "name": "stdout",
     "output_type": "stream",
     "text": [
      "The total number of documents in Top100SpotifySongs collection: 1000\n"
     ]
    }
   ],
   "source": [
    "all_docs_number = songs_collection.count_documents({})\n",
    "print('The total number of documents in Top100SpotifySongs collection:', all_docs_number) "
   ]
  },
  {
   "cell_type": "code",
   "execution_count": null,
   "metadata": {},
   "outputs": [],
   "source": [
    "first_100_songs = songs_collection.find({}).limit(100)\n",
    "for song in first_100_songs:\n",
    "    print(song)"
   ]
  },
  {
   "cell_type": "code",
   "execution_count": null,
   "metadata": {},
   "outputs": [],
   "source": [
    "edm_songs = songs_collection.find({'genre':'edm'})\n",
    "for edm_song in edm_songs:\n",
    "    display(edm_song) "
   ]
  },
  {
   "cell_type": "code",
   "execution_count": null,
   "metadata": {},
   "outputs": [],
   "source": [
    "loud_songs = songs_collection.find({'decibel':{'$lt':-5}, 'beats per minute':{'$gt': 100}}).sort('beats per minute', -1)\n",
    "for loud_song in loud_songs:\n",
    "    display(loud_song) "
   ]
  },
  {
   "cell_type": "code",
   "execution_count": null,
   "metadata": {},
   "outputs": [],
   "source": [
    "year2016_or_more_songs = songs_collection.find({'year released':{'$gte':2016}}).sort('year released')\n",
    "for year2016_or_more_song in year2016_or_more_songs:\n",
    "    display(year2016_or_more_song) "
   ]
  },
  {
   "cell_type": "code",
   "execution_count": null,
   "metadata": {},
   "outputs": [],
   "source": [
    "group_songs = songs_collection.find({'artist type':{'$ne':'Solo'}})\n",
    "for group_song in group_songs:\n",
    "    display(group_song) "
   ]
  },
  {
   "cell_type": "code",
   "execution_count": 20,
   "metadata": {},
   "outputs": [
    {
     "data": {
      "text/plain": [
       "{'_id': ObjectId('625fb7e085dc565df379e617'),\n",
       " '\\ufefftitle': 'Only Girl (In The World)',\n",
       " 'artist': 'Rihanna',\n",
       " 'genre': 'barbadian pop',\n",
       " 'year released': 2010,\n",
       " 'date added to list': '2022‑02‑17',\n",
       " 'beats per minute': 126,\n",
       " 'energetic rate': 71,\n",
       " 'danceability rate': 79,\n",
       " 'decibel': -4,\n",
       " 'probability is live song ': 6,\n",
       " 'positivity rate': 64,\n",
       " 'duration': 235,\n",
       " 'acoustic rate': 11,\n",
       " 'focus on spoken words': 4,\n",
       " 'popularity': 82,\n",
       " 'top year': 2010,\n",
       " 'artist type': 'Solo'}"
      ]
     },
     "metadata": {},
     "output_type": "display_data"
    },
    {
     "data": {
      "text/plain": [
       "{'_id': ObjectId('625fb7e085dc565df379e618'),\n",
       " '\\ufefftitle': 'Rude Boy',\n",
       " 'artist': 'Rihanna',\n",
       " 'genre': 'barbadian pop',\n",
       " 'year released': 2009,\n",
       " 'date added to list': '2022‑02‑17',\n",
       " 'beats per minute': 174,\n",
       " 'energetic rate': 75,\n",
       " 'danceability rate': 56,\n",
       " 'decibel': -4,\n",
       " 'probability is live song ': 8,\n",
       " 'positivity rate': 81,\n",
       " 'duration': 223,\n",
       " 'acoustic rate': 11,\n",
       " 'focus on spoken words': 13,\n",
       " 'popularity': 80,\n",
       " 'top year': 2010,\n",
       " 'artist type': 'Solo'}"
      ]
     },
     "metadata": {},
     "output_type": "display_data"
    },
    {
     "data": {
      "text/plain": [
       "{'_id': ObjectId('625fb7e085dc565df379e619'),\n",
       " '\\ufefftitle': \"What's My Name?\",\n",
       " 'artist': 'Rihanna',\n",
       " 'genre': 'barbadian pop',\n",
       " 'year released': 2010,\n",
       " 'date added to list': '2022‑02‑17',\n",
       " 'beats per minute': 100,\n",
       " 'energetic rate': 78,\n",
       " 'danceability rate': 69,\n",
       " 'decibel': -3,\n",
       " 'probability is live song ': 8,\n",
       " 'positivity rate': 56,\n",
       " 'duration': 263,\n",
       " 'acoustic rate': 18,\n",
       " 'focus on spoken words': 7,\n",
       " 'popularity': 75,\n",
       " 'top year': 2010,\n",
       " 'artist type': 'Solo'}"
      ]
     },
     "metadata": {},
     "output_type": "display_data"
    },
    {
     "data": {
      "text/plain": [
       "{'_id': ObjectId('625fb7e085dc565df379e61a'),\n",
       " '\\ufefftitle': 'Man Down',\n",
       " 'artist': 'Rihanna',\n",
       " 'genre': 'barbadian pop',\n",
       " 'year released': 2010,\n",
       " 'date added to list': '2022‑02‑17',\n",
       " 'beats per minute': 156,\n",
       " 'energetic rate': 91,\n",
       " 'danceability rate': 48,\n",
       " 'decibel': -4,\n",
       " 'probability is live song ': 5,\n",
       " 'positivity rate': 54,\n",
       " 'duration': 267,\n",
       " 'acoustic rate': 4,\n",
       " 'focus on spoken words': 19,\n",
       " 'popularity': 65,\n",
       " 'top year': 2010,\n",
       " 'artist type': 'Solo'}"
      ]
     },
     "metadata": {},
     "output_type": "display_data"
    },
    {
     "data": {
      "text/plain": [
       "{'_id': ObjectId('625fb7e085dc565df379e61b'),\n",
       " '\\ufefftitle': 'Hard',\n",
       " 'artist': 'Rihanna',\n",
       " 'genre': 'barbadian pop',\n",
       " 'year released': 2009,\n",
       " 'date added to list': '2022‑02‑17',\n",
       " 'beats per minute': 182,\n",
       " 'energetic rate': 75,\n",
       " 'danceability rate': 31,\n",
       " 'decibel': -4,\n",
       " 'probability is live song ': 65,\n",
       " 'positivity rate': 16,\n",
       " 'duration': 251,\n",
       " 'acoustic rate': 1,\n",
       " 'focus on spoken words': 11,\n",
       " 'popularity': 60,\n",
       " 'top year': 2010,\n",
       " 'artist type': 'Solo'}"
      ]
     },
     "metadata": {},
     "output_type": "display_data"
    },
    {
     "data": {
      "text/plain": [
       "{'_id': ObjectId('625fb7e085dc565df379e692'),\n",
       " '\\ufefftitle': 'S&M',\n",
       " 'artist': 'Rihanna',\n",
       " 'genre': 'barbadian pop',\n",
       " 'year released': 2010,\n",
       " 'date added to list': '2020‑06‑16',\n",
       " 'beats per minute': 128,\n",
       " 'energetic rate': 68,\n",
       " 'danceability rate': 77,\n",
       " 'decibel': -5,\n",
       " 'probability is live song ': 9,\n",
       " 'positivity rate': 84,\n",
       " 'duration': 244,\n",
       " 'acoustic rate': 1,\n",
       " 'focus on spoken words': 4,\n",
       " 'popularity': 82,\n",
       " 'top year': 2011,\n",
       " 'artist type': 'Solo'}"
      ]
     },
     "metadata": {},
     "output_type": "display_data"
    },
    {
     "data": {
      "text/plain": [
       "{'_id': ObjectId('625fb7e085dc565df379e693'),\n",
       " '\\ufefftitle': 'We Found Love',\n",
       " 'artist': 'Rihanna',\n",
       " 'genre': 'barbadian pop',\n",
       " 'year released': 2011,\n",
       " 'date added to list': '2020‑06‑16',\n",
       " 'beats per minute': 128,\n",
       " 'energetic rate': 77,\n",
       " 'danceability rate': 74,\n",
       " 'decibel': -4,\n",
       " 'probability is live song ': 11,\n",
       " 'positivity rate': 60,\n",
       " 'duration': 215,\n",
       " 'acoustic rate': 3,\n",
       " 'focus on spoken words': 4,\n",
       " 'popularity': 80,\n",
       " 'top year': 2011,\n",
       " 'artist type': 'Solo'}"
      ]
     },
     "metadata": {},
     "output_type": "display_data"
    },
    {
     "data": {
      "text/plain": [
       "{'_id': ObjectId('625fb7e085dc565df379e694'),\n",
       " '\\ufefftitle': \"What's My Name?\",\n",
       " 'artist': 'Rihanna',\n",
       " 'genre': 'barbadian pop',\n",
       " 'year released': 2010,\n",
       " 'date added to list': '2020‑06‑16',\n",
       " 'beats per minute': 100,\n",
       " 'energetic rate': 78,\n",
       " 'danceability rate': 69,\n",
       " 'decibel': -3,\n",
       " 'probability is live song ': 8,\n",
       " 'positivity rate': 56,\n",
       " 'duration': 263,\n",
       " 'acoustic rate': 18,\n",
       " 'focus on spoken words': 7,\n",
       " 'popularity': 75,\n",
       " 'top year': 2011,\n",
       " 'artist type': 'Solo'}"
      ]
     },
     "metadata": {},
     "output_type": "display_data"
    },
    {
     "data": {
      "text/plain": [
       "{'_id': ObjectId('625fb7e085dc565df379e6ef'),\n",
       " '\\ufefftitle': 'We Found Love',\n",
       " 'artist': 'Rihanna',\n",
       " 'genre': 'barbadian pop',\n",
       " 'year released': 2011,\n",
       " 'date added to list': '2020‑06‑22',\n",
       " 'beats per minute': 128,\n",
       " 'energetic rate': 77,\n",
       " 'danceability rate': 74,\n",
       " 'decibel': -4,\n",
       " 'probability is live song ': 11,\n",
       " 'positivity rate': 60,\n",
       " 'duration': 215,\n",
       " 'acoustic rate': 3,\n",
       " 'focus on spoken words': 4,\n",
       " 'popularity': 80,\n",
       " 'top year': 2012,\n",
       " 'artist type': 'Solo'}"
      ]
     },
     "metadata": {},
     "output_type": "display_data"
    },
    {
     "data": {
      "text/plain": [
       "{'_id': ObjectId('625fb7e085dc565df379e6f0'),\n",
       " '\\ufefftitle': 'Where Have You Been',\n",
       " 'artist': 'Rihanna',\n",
       " 'genre': 'barbadian pop',\n",
       " 'year released': 2011,\n",
       " 'date added to list': '2020‑06‑22',\n",
       " 'beats per minute': 128,\n",
       " 'energetic rate': 85,\n",
       " 'danceability rate': 72,\n",
       " 'decibel': -6,\n",
       " 'probability is live song ': 22,\n",
       " 'positivity rate': 44,\n",
       " 'duration': 243,\n",
       " 'acoustic rate': 0,\n",
       " 'focus on spoken words': 9,\n",
       " 'popularity': 76,\n",
       " 'top year': 2012,\n",
       " 'artist type': 'Solo'}"
      ]
     },
     "metadata": {},
     "output_type": "display_data"
    },
    {
     "data": {
      "text/plain": [
       "{'_id': ObjectId('625fb7e085dc565df379e80d'),\n",
       " '\\ufefftitle': 'FourFiveSeconds',\n",
       " 'artist': 'Rihanna',\n",
       " 'genre': 'barbadian pop',\n",
       " 'year released': 2015,\n",
       " 'date added to list': '2020‑06‑19',\n",
       " 'beats per minute': 206,\n",
       " 'energetic rate': 27,\n",
       " 'danceability rate': 58,\n",
       " 'decibel': -6,\n",
       " 'probability is live song ': 13,\n",
       " 'positivity rate': 35,\n",
       " 'duration': 188,\n",
       " 'acoustic rate': 88,\n",
       " 'focus on spoken words': 5,\n",
       " 'popularity': 82,\n",
       " 'top year': 2015,\n",
       " 'artist type': 'Solo'}"
      ]
     },
     "metadata": {},
     "output_type": "display_data"
    },
    {
     "data": {
      "text/plain": [
       "{'_id': ObjectId('625fb7e085dc565df379e80e'),\n",
       " '\\ufefftitle': 'Bitch Better Have My Money',\n",
       " 'artist': 'Rihanna',\n",
       " 'genre': 'barbadian pop',\n",
       " 'year released': 2015,\n",
       " 'date added to list': '2020‑06‑19',\n",
       " 'beats per minute': 103,\n",
       " 'energetic rate': 73,\n",
       " 'danceability rate': 78,\n",
       " 'decibel': -5,\n",
       " 'probability is live song ': 26,\n",
       " 'positivity rate': 40,\n",
       " 'duration': 219,\n",
       " 'acoustic rate': 5,\n",
       " 'focus on spoken words': 6,\n",
       " 'popularity': 78,\n",
       " 'top year': 2015,\n",
       " 'artist type': 'Solo'}"
      ]
     },
     "metadata": {},
     "output_type": "display_data"
    },
    {
     "data": {
      "text/plain": [
       "{'_id': ObjectId('625fb7e085dc565df379e87b'),\n",
       " '\\ufefftitle': 'Needed Me',\n",
       " 'artist': 'Rihanna',\n",
       " 'genre': 'barbadian pop',\n",
       " 'year released': 2016,\n",
       " 'date added to list': '2020‑06‑08',\n",
       " 'beats per minute': 111,\n",
       " 'energetic rate': 31,\n",
       " 'danceability rate': 67,\n",
       " 'decibel': -8,\n",
       " 'probability is live song ': 8,\n",
       " 'positivity rate': 30,\n",
       " 'duration': 192,\n",
       " 'acoustic rate': 11,\n",
       " 'focus on spoken words': 24,\n",
       " 'popularity': 84,\n",
       " 'top year': 2016,\n",
       " 'artist type': 'Solo'}"
      ]
     },
     "metadata": {},
     "output_type": "display_data"
    },
    {
     "data": {
      "text/plain": [
       "{'_id': ObjectId('625fb7e085dc565df379e87c'),\n",
       " '\\ufefftitle': 'Work',\n",
       " 'artist': 'Rihanna',\n",
       " 'genre': 'barbadian pop',\n",
       " 'year released': 2016,\n",
       " 'date added to list': '2020‑06‑08',\n",
       " 'beats per minute': 92,\n",
       " 'energetic rate': 53,\n",
       " 'danceability rate': 73,\n",
       " 'decibel': -6,\n",
       " 'probability is live song ': 9,\n",
       " 'positivity rate': 56,\n",
       " 'duration': 219,\n",
       " 'acoustic rate': 8,\n",
       " 'focus on spoken words': 9,\n",
       " 'popularity': 80,\n",
       " 'top year': 2016,\n",
       " 'artist type': 'Solo'}"
      ]
     },
     "metadata": {},
     "output_type": "display_data"
    }
   ],
   "source": [
    "rihanna_songs = songs_collection.find({'artist':{'$in':['Rihanna']}})\n",
    "for rihanna_song in rihanna_songs:\n",
    "    display(rihanna_song) "
   ]
  },
  {
   "cell_type": "code",
   "execution_count": null,
   "metadata": {},
   "outputs": [],
   "source": [
    "no_pop_songs = songs_collection.find({'genre':{'$nin':['dance pop', 'pop soul','pop rap', 'art pop', 'pop', 'barbadian pop',\n",
    "    'acoustic pop', 'belgian pop', 'baroque pop', 'indie pop', 'australian pop','canadian pop', 'folk-pop', 'austrian pop', \n",
    "    'irish pop', 'chill pop', 'indie pop rap', 'electropop']}})\n",
    "for no_pop_song in no_pop_songs:\n",
    "    print(no_pop_song)"
   ]
  },
  {
   "cell_type": "code",
   "execution_count": null,
   "metadata": {},
   "outputs": [],
   "source": [
    "solo_and_duo_songs = songs_collection.find({'$nor':[{'artist type': 'Band/Group'}, {'artist type': 'Trio'}]})\n",
    "for solo_and_duo_song in solo_and_duo_songs:\n",
    "    print(solo_and_duo_song)                                      "
   ]
  },
  {
   "cell_type": "code",
   "execution_count": null,
   "metadata": {},
   "outputs": [],
   "source": [
    "year_2018_and_2019_songs = songs_collection.find({'$or':[{'top year': 2018}, {'top year': 2019}]})\n",
    "for year_2018_and_2019_song in year_2018_and_2019_songs:\n",
    "    print(year_2018_and_2019_song)    "
   ]
  },
  {
   "cell_type": "code",
   "execution_count": 16,
   "metadata": {},
   "outputs": [
    {
     "data": {
      "text/plain": [
       "<Figure size 432x288 with 0 Axes>"
      ]
     },
     "metadata": {},
     "output_type": "display_data"
    },
    {
     "data": {
      "image/png": "[encoded data removed]",
      "text/plain": [
       "<Figure size 432x288 with 1 Axes>"
      ]
     },
     "metadata": {
      "needs_background": "light"
     },
     "output_type": "display_data"
    }
   ],
   "source": [
    "query = { \n",
    "    'decibel': { '$gte': -5 }, \n",
    "    'popularity': { '$gt': 60 },\n",
    "    'duration': { '$lt': 200 },\n",
    "}\n",
    "   \n",
    "query_list = list(songs_collection.find(query))\n",
    "decibel = [x['decibel'] for x in query_list]\n",
    "popularity = [x['popularity'] for x in query_list]\n",
    "duration = [x['duration'] for x in query_list]\n",
    "   \n",
    "plt.clf()\n",
    "fig = plt.figure()\n",
    "  \n",
    "ax = fig.add_subplot(111, projection = '3d')\n",
    "ax.scatter(decibel, popularity, duration)\n",
    "  \n",
    "ax.set_xlabel('Decibel')\n",
    "ax.set_ylabel('Popularity')\n",
    "ax.set_zlabel('Duration')\n",
    "  \n",
    "plt.show()"
   ]
  },
  {
   "cell_type": "code",
   "execution_count": 23,
   "metadata": {},
   "outputs": [],
   "source": [
    "#songs_collection.drop()"
   ]
  }
 ],
 "metadata": {
  "kernelspec": {
   "display_name": "Python 3",
   "language": "python",
   "name": "python3"
  },
  "language_info": {
   "codemirror_mode": {
    "name": "ipython",
    "version": 3
   },
   "file_extension": ".py",
   "mimetype": "text/x-python",
   "name": "python",
   "nbconvert_exporter": "python",
   "pygments_lexer": "ipython3",
   "version": "3.8.3"
  }
 },
 "nbformat": 4,
 "nbformat_minor": 4
}
